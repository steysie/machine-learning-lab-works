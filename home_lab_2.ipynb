{
 "cells": [
  {
   "cell_type": "markdown",
   "metadata": {},
   "source": [
    "# Лабораторная работа #2"
   ]
  },
  {
   "cell_type": "markdown",
   "metadata": {},
   "source": [
    "Этот корпус содержит сообщения, собранные в социальной сети Twitter, автоматически размеченный на два класса (положительные и отрицательные). \n",
    "Каждый текст в корпусе имеет следующие атрибуты:\n",
    "\n",
    "0. id\n",
    "1. дата публикации;\n",
    "2. имя автора;\n",
    "3. текст твита;\n",
    "4. класс, к которому принадлежит текст (положительный, отрицательный, нейтральный);\n",
    "5. количество добавлений сообщения в избранное;\n",
    "6. количество ретвитов (количество копирований этого сообщения другими пользователями);\n",
    "7. количество друзей пользователя;\n",
    "8. количество пользователей, у которых данный юзер в друзьях (количество фоловеров);\n",
    "9. количество листов, в которых состоит пользователь.\n"
   ]
  },
  {
   "cell_type": "markdown",
   "metadata": {},
   "source": [
    "Целью лабораторной работы является научиться применять методы обучения с учителем (supervised learning) для задачи анализа тональностей, а также освоить специализированный инструментарий для компьютерной лингвистики и машинного обучения.\n",
    "\n",
    "1. Загрузить с использованием csv файлов твиты.\n",
    "2. Провести предобработку корпуса (удаление стоп-слов, и т.д.)\n",
    "3. Используя выбранную модель репрезентации получить матричное представление.\n",
    "4. Используя изученные классификаторы получить численные оценки точности, полноты и F-меры.\n",
    "5. Объяснить полученные результаты."
   ]
  },
  {
   "cell_type": "markdown",
   "metadata": {},
   "source": [
    "**Для начала, имортируем все необходимые библиотеки**"
   ]
  },
  {
   "cell_type": "code",
   "execution_count": 1,
   "metadata": {
    "collapsed": true
   },
   "outputs": [],
   "source": [
    "import pandas as pd\n",
    "import numpy as np\n",
    "import preprocessor as p\n",
    "from pymystem3 import Mystem\n",
    "from sklearn.feature_extraction.text import TfidfVectorizer, CountVectorizer\n",
    "from sklearn.naive_bayes import MultinomialNB\n",
    "from sklearn.model_selection import KFold\n",
    "from sklearn.neighbors import KNeighborsClassifier\n",
    "from sklearn.metrics import accuracy_score, recall_score, precision_score, f1_score\n",
    "from sklearn.model_selection import GridSearchCV\n",
    "from sklearn.svm import SVC\n",
    "from sklearn.ensemble import RandomForestClassifier\n",
    "from sklearn.pipeline import Pipeline"
   ]
  },
  {
   "cell_type": "markdown",
   "metadata": {},
   "source": [
    "**Загрузка файлов, конкатенация таблиц**"
   ]
  },
  {
   "cell_type": "code",
   "execution_count": 2,
   "metadata": {
    "collapsed": true,
    "scrolled": false
   },
   "outputs": [],
   "source": [
    "df_pos = pd.read_csv('positive.csv', sep=';', header=None, names=[\"id\",\n",
    "                                                              \"tdate\", \n",
    "                                                              \"tname\", \n",
    "                                                              \"ttext\", \n",
    "                                                              \"ttype\", \n",
    "                                                              \"trep\",\n",
    "                                                              \"trtw\",\n",
    "                                                              \"tfav\", \n",
    "                                                              \"tstcount\", \n",
    "                                                              \"tfoll\", \n",
    "                                                              \"tfrien\", \n",
    "                                                              \"listcount\"])\n",
    "df_pos['class'] = 1"
   ]
  },
  {
   "cell_type": "code",
   "execution_count": 3,
   "metadata": {
    "collapsed": true
   },
   "outputs": [],
   "source": [
    "df_neg = pd.read_csv('negative.csv', sep=';', header=None, names=[\"id\",\n",
    "                                                              \"tdate\", \n",
    "                                                              \"tname\", \n",
    "                                                              \"ttext\", \n",
    "                                                              \"ttype\", \n",
    "                                                              \"trep\",\n",
    "                                                              \"trtw\",\n",
    "                                                              \"tfav\", \n",
    "                                                              \"tstcount\", \n",
    "                                                              \"tfoll\", \n",
    "                                                              \"tfrien\", \n",
    "                                                              \"listcount\"])\n",
    "df_neg['class'] = -1"
   ]
  },
  {
   "cell_type": "markdown",
   "metadata": {},
   "source": [
    "Да, можно было бы размешать один раз, но нам захотелось размешать данные дважды и сначала мы отдельно мешаем позитивные и негативные твиты и потом, просто потому что нам так захотелось, размешаем еще раз уже сконкатенированный корпус. *Хотя можно было бы сделать просто последнее без последствий при условии, что мы работаем со всей выборкой, а не с её частью.* Но мы, гуманитарии, не ищем легких путей! :)"
   ]
  },
  {
   "cell_type": "code",
   "execution_count": 4,
   "metadata": {
    "collapsed": true
   },
   "outputs": [],
   "source": [
    "df_pos = df_pos.sample(frac=1) # мешаем позитивные\n",
    "df_neg = df_neg.sample(frac=1) # мешаем негативные\n",
    "res_df = pd.concat([df_pos[:2000], df_neg[:2000]]) # соединяем\n",
    "res_df = res_df.sample(frac=1)  # мешаем еще раз, чтобы не было сначала позитивных, и затем негативных"
   ]
  },
  {
   "cell_type": "code",
   "execution_count": null,
   "metadata": {
    "collapsed": true
   },
   "outputs": [],
   "source": [
    "p.set_options(p.OPT.URL, p.OPT.HASHTAG, p.OPT.MENTION, p.OPT.RESERVED) \n",
    "m = Mystem()\n",
    "X = pd.Series([''.join(m.lemmatize(p.clean(i))) for i in res_df['ttext'].values])\n",
    "y = res_df['class'].values"
   ]
  },
  {
   "cell_type": "markdown",
   "metadata": {},
   "source": [
    "*Следующие две функции обозначим для удобства (в дальнейшем)*"
   ]
  },
  {
   "cell_type": "code",
   "execution_count": null,
   "metadata": {
    "collapsed": true
   },
   "outputs": [],
   "source": [
    "def evaluate(y_test, y_test_predict):\n",
    "    print(\"Accuracy score: {0}\".format(accuracy_score(y_test, y_test_predict)))\n",
    "    print(\"Precision: {0}\".format(precision_score(y_test, y_test_predict)))\n",
    "    print(\"Recall: {0}\".format(recall_score(y_test, y_test_predict)))\n",
    "    print(\"F1-measure: {0}\".format(f1_score(y_test, y_test_predict)))"
   ]
  },
  {
   "cell_type": "code",
   "execution_count": null,
   "metadata": {
    "collapsed": true
   },
   "outputs": [],
   "source": [
    "def vectorize():\n",
    "    # Параметры max_df и min_df задают удаление стоп-слов именно для данного корпуса (пруф в документации scikit-learn)\n",
    "    current_vectorizer = TfidfVectorizer(max_df=0.8, \n",
    "                                 min_df=0, \n",
    "                                 use_idf=True)\n",
    "    return current_vectorizer"
   ]
  },
  {
   "cell_type": "markdown",
   "metadata": {},
   "source": [
    "**Naive Bayes**"
   ]
  },
  {
   "cell_type": "code",
   "execution_count": null,
   "metadata": {
    "collapsed": true,
    "scrolled": true
   },
   "outputs": [],
   "source": [
    "kf = KFold(n_splits=3,shuffle=True) # Делим натрое\n",
    "for train_index, test_index in kf.split(X):\n",
    "    # Создаем тестовую и тренировочную выборки\n",
    "    X_train, X_test = X[train_index], X[test_index]\n",
    "    y_train, y_test = y[train_index], y[test_index]\n",
    "    \n",
    "    # Применяем TF-IDF векторизацию\n",
    "    current_vectorizer = vectorize() \n",
    "    \n",
    "    # Pipeline позволяет объединить тир шага: \n",
    "    # find set of features, generate new features, select only some good features\n",
    "    model = Pipeline([('tfidf', current_vectorizer), ('clf', MultinomialNB())])\n",
    "    model.fit(X_train, y_train)  # обучаем\n",
    "    y_test_predict = model.predict(X_test)\n",
    "    \n",
    "print (evaluate(y_test, y_test_predict))"
   ]
  },
  {
   "cell_type": "markdown",
   "metadata": {},
   "source": [
    "**Random Forest**"
   ]
  },
  {
   "cell_type": "code",
   "execution_count": null,
   "metadata": {
    "collapsed": true
   },
   "outputs": [],
   "source": [
    "for train_index, test_index in kf.split(X):\n",
    "    X_train, X_test = X[train_index], X[test_index]\n",
    "    y_train, y_test = y[train_index], y[test_index]\n",
    "    \n",
    "    current_vectorizer = vectorize()\n",
    "    \n",
    "    model = Pipeline([('tfidf', current_vectorizer), ('clf', RandomForestClassifier())])\n",
    "    model.fit(X_train, y_train)  \n",
    "    y_test_predict = model.predict(X_test)\n",
    "print(evaluate(y_test, y_test_predict))"
   ]
  },
  {
   "cell_type": "markdown",
   "metadata": {},
   "source": [
    "**Support Vector Classifier**"
   ]
  },
  {
   "cell_type": "code",
   "execution_count": null,
   "metadata": {
    "collapsed": true
   },
   "outputs": [],
   "source": [
    "for train_index, test_index in kf.split(X):\n",
    "    X_train, X_test = X[train_index], X[test_index]\n",
    "    y_train, y_test = y[train_index], y[test_index]\n",
    "    \n",
    "    current_vectorizer = vectorize()\n",
    "    \n",
    "    model = Pipeline([('tfidf', current_vectorizer), ('clf', SVC())])\n",
    "    model.fit(X_train, y_train)\n",
    "    y_test_predict = model.predict(X_test)\n",
    "print(evaluate(y_test, y_test_predict))"
   ]
  },
  {
   "cell_type": "markdown",
   "metadata": {},
   "source": [
    "**K-neighbors Classifier**"
   ]
  },
  {
   "cell_type": "code",
   "execution_count": null,
   "metadata": {
    "collapsed": true
   },
   "outputs": [],
   "source": [
    "for train_index, test_index in kf.split(X):\n",
    "    X_train, X_test = X[train_index], X[test_index]\n",
    "    y_train, y_test = y[train_index], y[test_index]\n",
    "    \n",
    "    current_vectorizer = vectorize()\n",
    "    \n",
    "    model = Pipeline([('tfidf', current_vectorizer), ('clf', KNeighborsClassifier(5))])\n",
    "    model.fit(X_train, y_train)\n",
    "    y_test_predict = model.predict(X_test)\n",
    "print(evaluate(y_test, y_test_predict))"
   ]
  },
  {
   "cell_type": "code",
   "execution_count": null,
   "metadata": {
    "collapsed": true
   },
   "outputs": [],
   "source": []
  }
 ],
 "metadata": {
  "anaconda-cloud": {},
  "kernelspec": {
   "display_name": "Python 3",
   "language": "python",
   "name": "python3"
  },
  "language_info": {
   "codemirror_mode": {
    "name": "ipython",
    "version": 3
   },
   "file_extension": ".py",
   "mimetype": "text/x-python",
   "name": "python",
   "nbconvert_exporter": "python",
   "pygments_lexer": "ipython3",
   "version": "3.6.1"
  }
 },
 "nbformat": 4,
 "nbformat_minor": 1
}
